{
 "cells": [
  {
   "cell_type": "code",
   "execution_count": 1,
   "metadata": {},
   "outputs": [
    {
     "name": "stderr",
     "output_type": "stream",
     "text": [
      "C:\\Users\\ADMIN\\anaconda3\\lib\\site-packages\\requests\\__init__.py:89: RequestsDependencyWarning: urllib3 (1.26.13) or chardet (3.0.4) doesn't match a supported version!\n",
      "  warnings.warn(\"urllib3 ({}) or chardet ({}) doesn't match a supported \"\n"
     ]
    }
   ],
   "source": [
    "import requests\n",
    "from bs4 import BeautifulSoup\n",
    "from selenium import webdriver\n",
    "from selenium.webdriver.chrome.options import Options\n",
    "from selenium.webdriver import ActionChains\n",
    "\n",
    "import multiprocessing\n",
    "from selenium.webdriver.support.ui import WebDriverWait\n",
    "from selenium.webdriver.support import expected_conditions as EC\n",
    "from selenium.webdriver.common.by import By\n",
    "\n",
    "import json\n",
    "import time\n",
    "\n",
    "import os\n",
    "\n",
    "import pandas as pd\n",
    "\n",
    "from multiprocessing import Pool"
   ]
  },
  {
   "cell_type": "code",
   "execution_count": 2,
   "metadata": {},
   "outputs": [],
   "source": [
    "PATH=\"C:\\Program Files (x86)\\chromedriver.exe\""
   ]
  },
  {
   "cell_type": "code",
   "execution_count": 3,
   "metadata": {},
   "outputs": [
    {
     "name": "stderr",
     "output_type": "stream",
     "text": [
      "<ipython-input-3-39becb130489>:1: DeprecationWarning: executable_path has been deprecated, please pass in a Service object\n",
      "  driver=webdriver.Chrome(PATH)\n"
     ]
    }
   ],
   "source": [
    "driver=webdriver.Chrome(PATH)"
   ]
  },
  {
   "cell_type": "code",
   "execution_count": 4,
   "metadata": {},
   "outputs": [],
   "source": [
    "AIRBNB_LINK = 'https://www.airbnb.com/s/Capitola--California--United-States/homes?tab_id=home_tab&refinement_paths%5B%5D=%2Fhomes&flexible_trip_lengths%5B%5D=one_week&price_filter_input_type=0&price_filter_num_nights=5&query=Capitola%2C%20CA&place_id=ChIJ066GeHQVjoAR58t1aK7zMNw&date_picker_type=calendar&source=structured_search_input_header&search_type=autocomplete_click'"
   ]
  },
  {
   "cell_type": "code",
   "execution_count": 5,
   "metadata": {},
   "outputs": [],
   "source": [
    "RULES_SEARCH_PAGE = {\n",
    "#     'url': {'tag': 'a', 'get': 'href'},\n",
    "#     'name': {'tag': 'div', 'class': '_hxt6u1e', 'get': 'aria-label'},\n",
    "#     'name_alt': {'tag': 'a', 'get': 'aria-label'},\n",
    "#     'header': {'tag': 'div', 'class': '_b14dlit'},\n",
    "#     'rooms': {'tag': 'div', 'class': '_kqh46o'},\n",
    "#     'facilities': {'tag': 'div', 'class': '_kqh46o', 'order': 1},\n",
    "#     'badge': {'tag': 'div', 'class': '_17bkx6k'},\n",
    "#     'rating_n_reviews': {'tag': 'span', 'class': '_18khxk1'},\n",
    "#     'price': {'tag': 'span', 'class': '_1p7iugi'},\n",
    "#     'price_alt': {'tag': 'span', 'class': '_olc9rf0'},\n",
    "#     'superhost': {'tag': 'div', 'class': '_ufoy4t'},\n",
    "      \n",
    "      'url':{'tag':'a', 'class':'rfexzly dir dir-ltr','get':'href'},\n",
    "      'description':{'tag':'span','class':'t6mzqp7 dir dir-ltr'},\n",
    "      'name':{'tag':'div','class':'t1jojoys dir dir-ltr'},\n",
    "      'superhost': {'tag': 'div', 'class': 't1mwk1n0 dir dir-ltr'},\n",
    "      'price per night': {'tag': 'span', 'class': '_tyxjp1'},\n",
    "      'actual price': {'tag': 'span', 'class': '_1ks8cgb'},\n",
    "      'beds': {'tag': 'span', 'class': 'dir dir-ltr'},\n",
    "}"
   ]
  },
  {
   "cell_type": "code",
   "execution_count": 6,
   "metadata": {},
   "outputs": [],
   "source": [
    "RULES_DETAIL_PAGE = {\n",
    "    'location': {'tag': 'span', 'class': '_9xiloll'},\n",
    "    'unit rental details': {'tag': 'div', 'class': '_kh3xmo'},\n",
    "    #'number of guests': {'tag': 'li', 'class': 'l7n4lsf dir dir-ltr'},\n",
    "    'number of guests': {'tag': 'li', 'class': 'l7n4lsf dir dir-ltr', 'order': -1},\n",
    "    'more description': {'tag': 'span', 'class': 'll4r2nl dir dir-ltr'},\n",
    "    #'amenities': {'tag': 'div', 'class': 'iikjzje i10xc1ab dir dir-ltr'},#order\n",
    "    'house rules': {'tag': 'div', 'class': 'sahkfss dir dir-ltr'}, #order\n",
    "    'amenities1': {'tag': 'div', 'class': 'iikjzje i10xc1ab dir dir-ltr', 'order': -1},#order\n",
    "    'house rules2': {'tag': 'div', 'class': 'sahkfss dir dir-ltr', 'order': -1}, #order\n",
    "    \n",
    "#     'specialties_1': {'tag': 'div', 'class': 't1bchdij', 'order': -1},\n",
    "#     'specialties_2': {'tag': 'div', 'class': '_1qsawv5', 'order': -1},\n",
    "\n",
    "#     'price_per_night': {'tag': 'div', 'class': '_ymq6as'},\n",
    "    \n",
    "#     'refundables': {'tag': 'div', 'class': '_cexc0g', 'order': -1},\n",
    "        \n",
    "#     'prices_1': {'tag': 'li', 'class': '_ryvszj', 'order': -1},\n",
    "#     'prices_2': {'tag': 'li', 'class': '_adhikmk', 'order': -1},\n",
    "    \n",
    "#     'listing_ratings': {'tag': 'span', 'class': '_4oybiu', 'order': -1},\n",
    "    \n",
    "#     'host_joined': {'tag': 'div', 'class': '_1fg5h8r', 'order': 1},\n",
    "#     'host_feats': {'tag': 'span', 'class': '_pog3hg', 'order': -1},\n",
    "    \n",
    "#     'lang_responses': {'tag': 'li', 'class': '_1q2lt74', 'order': -1},\n",
    "#     'house_rules': {'tag': 'div', 'class': '_u827kd', 'order': -1},\n",
    "}"
   ]
  },
  {
   "cell_type": "code",
   "execution_count": 7,
   "metadata": {},
   "outputs": [],
   "source": [
    "def extract_listings(page_url, attempts=10):\n",
    "    \"\"\"Extracts all listings from a given page\"\"\"\n",
    "    #print(\"inside listings\")\n",
    "    listings_max = 0\n",
    "    listings_out = [BeautifulSoup('', features='html.parser')]\n",
    "    for idx in range(attempts):\n",
    "        try:\n",
    "            answer = requests.get(page_url, timeout=5)\n",
    "            content = answer.content\n",
    "            soup = BeautifulSoup(content, features='html.parser')\n",
    "            listings = soup.findAll(\"div\", {\"class\": \"c4mnd7m dir dir-ltr\"})\n",
    "        except:\n",
    "            # if no response - return a list with an empty soup\n",
    "            listings = [BeautifulSoup('', features='html.parser')]\n",
    "\n",
    "        if len(listings) == 20:\n",
    "            listings_out = listings\n",
    "            break\n",
    "\n",
    "        if len(listings) >= listings_max:\n",
    "            listings_max = len(listings)\n",
    "            listings_out = listings\n",
    "    #print(\"cameout listings\")\n",
    "    return listings_out"
   ]
  },
  {
   "cell_type": "code",
   "execution_count": 8,
   "metadata": {},
   "outputs": [],
   "source": [
    "def extract_element_data(soup, params):\n",
    "    \"\"\"Extracts data from a specified HTML element\"\"\"\n",
    "    #print(\"inside element data\")\n",
    "    # 1. Find the right tag\n",
    "    if 'class' in params:\n",
    "        \n",
    "        elements_found = soup.find_all(params['tag'], params['class'])\n",
    "    else:\n",
    "        elements_found = soup.find_all(params['tag'])\n",
    "        \n",
    "    # 2. Extract text from these tags\n",
    "    if 'get' in params:\n",
    "        element_texts = [el.get(params['get']) for el in elements_found]\n",
    "        #print(\"inside if\",element_texts)\n",
    "    else:\n",
    "        element_texts = [el.get_text() for el in elements_found]\n",
    "        #print(\"inside else\",element_texts)\n",
    "        \n",
    "    # 3. Select a particular text or concatenate all of them\n",
    "    tag_order = params.get('order', 0)\n",
    "    if tag_order == -1:\n",
    "        output = '**__**'.join(element_texts)\n",
    "    else:\n",
    "        output = element_texts[tag_order]\n",
    "    #print(\"output\",output)\n",
    "    #print(\"came out element data\")\n",
    "    return output"
   ]
  },
  {
   "cell_type": "code",
   "execution_count": 9,
   "metadata": {},
   "outputs": [],
   "source": [
    "def extract_listing_features(soup, rules):\n",
    "    \"\"\"Extracts all features from the listing\"\"\"\n",
    "    features_dict = {}\n",
    "    for feature in rules:\n",
    "        try:\n",
    "            if feature=='house rules' or feature=='house rules2':\n",
    "                print(\"inside if of house rules\")\n",
    "                features_dict[feature] = extract_house_rules_data(soup, rules[feature])\n",
    "            else:\n",
    "                features_dict[feature] = extract_element_data(soup, rules[feature])\n",
    "            #print(feature, features_dict[feature])\n",
    "        except:\n",
    "            features_dict[feature] = 'empty'\n",
    "    #print(features_dict)\n",
    "    return features_dict"
   ]
  },
  {
   "cell_type": "code",
   "execution_count": 10,
   "metadata": {},
   "outputs": [],
   "source": [
    "def extract_house_rules_data(soup, params):\n",
    "    house_rules3 = soup.find_all('div', 'sahkfss dir dir-ltr')\n",
    "    print(\"house_rules3\",house_rules3)\n",
    "    #print(\"inside amenities\")\n",
    "    House_rules_list = []\n",
    "    house_dict={}\n",
    "    for Hrule in house_rules3:\n",
    "        print(\"Hrule\",Hrule)\n",
    "        tags = Hrule.find_all('div')\n",
    "        for i in tags:\n",
    "            House_rules_list.append(i.get_text())\n",
    "        \n",
    "    house_dict['all_rules'] = House_rules_list\n",
    "    #print(\"cameout of amenities\")  \n",
    "    print(\"all house rules\",House_rules_list)\n",
    "    return House_rules_list\n",
    "    "
   ]
  },
  {
   "cell_type": "code",
   "execution_count": 11,
   "metadata": {},
   "outputs": [],
   "source": [
    "def extract_soup_js(listing_url, waiting_time=[20, 1]):\n",
    "    \"\"\"Extracts HTML from JS pages: open, wait, click, wait, extract\"\"\"\n",
    "    #print(\"inside soup_js function\")\n",
    "    options = Options()\n",
    "    options.add_argument('--headless')\n",
    "    options.add_argument('--blink-settings=imagesEnabled=false')\n",
    "    driver = webdriver.Chrome(PATH,options=options)\n",
    "\n",
    "    # if the URL is not valid - return an empty soup\n",
    "    try:\n",
    "        #print(\"inside timeout\")\n",
    "        driver.get(listing_url)\n",
    "    except:\n",
    "        print(f\"Wrong URL: {listing_url}\")\n",
    "        return BeautifulSoup('', features='html.parser')\n",
    "    \n",
    "    # waiting for an element on the bottom of the page to load (\"More places to stay\")\n",
    "    try:\n",
    "        myElem = WebDriverWait(driver, waiting_time[0]).until(EC.presence_of_element_located((By.CLASS_NAME, '_4971jm')))\n",
    "    except:\n",
    "        pass\n",
    "\n",
    "    # click cookie policy\n",
    "    try:\n",
    "        driver.find_element_by_xpath(\"/html/body/div[6]/div/div/div[1]/section/footer/div[2]/button\").click()\n",
    "    except:\n",
    "        pass\n",
    "    # alternative click cookie policy\n",
    "    try:\n",
    "        element = driver.find_element_by_xpath(\"//*[@data-testid='main-cookies-banner-container']\")\n",
    "        element.find_element_by_xpath(\"//button[@data-testid='accept-btn']\").click()\n",
    "    except:\n",
    "        pass\n",
    "\n",
    "    # looking for price details\n",
    "    price_dropdown = 0\n",
    "    try:\n",
    "        element = driver.find_element_by_class_name('_gby1jkw')\n",
    "        price_dropdown = 1\n",
    "    except:\n",
    "        pass\n",
    "\n",
    "    # if the element is present - click on it\n",
    "    if price_dropdown == 1:\n",
    "        for i in range(10): # 10 attempts to scroll to the price button\n",
    "            try:\n",
    "                actions = ActionChains(driver)\n",
    "                driver.execute_script(\"arguments[0].scrollIntoView(true);\", element);\n",
    "                actions.move_to_element_with_offset(element, 5, 5)\n",
    "                actions.click().perform()\n",
    "                break\n",
    "            except:\n",
    "                pass\n",
    "        \n",
    "    # looking for amenities\n",
    "    driver.execute_script(\"window.scrollTo(0, 0);\")\n",
    "    try:\n",
    "        driver.find_element_by_class_name('_13e0raay').click()\n",
    "    except:\n",
    "        pass # amenities button not found\n",
    "\n",
    "    time.sleep(waiting_time[1])\n",
    "\n",
    "    detail_page = driver.page_source\n",
    "\n",
    "    driver.quit()\n",
    "    #print(\"outside soup_js function\")\n",
    "\n",
    "    return BeautifulSoup(detail_page, features='html.parser')\n",
    "\n",
    "\n"
   ]
  },
  {
   "cell_type": "code",
   "execution_count": 12,
   "metadata": {},
   "outputs": [],
   "source": [
    "def scrape_detail_page(base_features):\n",
    "    \"\"\"Scrapes the detail page and merges the result with basic features\"\"\"\n",
    "    \n",
    "    detailed_url = 'https://www.airbnb.com' + base_features['url']\n",
    "    #print(\"detailed url\",detailed_url)\n",
    "    soup_detail = extract_soup_js(detailed_url)\n",
    "\n",
    "    features_detailed = extract_listing_features(soup_detail, RULES_DETAIL_PAGE)\n",
    "    features_amenities = extract_amenities(soup_detail)\n",
    "\n",
    "    features_detailed['amenities'] = features_amenities\n",
    "    features_all = {**base_features, **features_detailed}\n",
    "    #print(features_all)\n",
    "    return features_all"
   ]
  },
  {
   "cell_type": "code",
   "execution_count": 13,
   "metadata": {},
   "outputs": [],
   "source": [
    "def extract_amenities(soup):\n",
    "    amenities = soup.find_all('div', {'class': '_aujnou'})\n",
    "    #print(\"inside amenities\")\n",
    "    amenities_dict = {}\n",
    "    for amenity in amenities:\n",
    "        header = amenity.find('div', {'class': '_1crk6cd'}).get_text()\n",
    "        values = amenity.find_all('div', {'class': '_1dotkqq'})\n",
    "        values = [v.find(text=True) for v in values]\n",
    "        \n",
    "        amenities_dict['amenity_' + header] = values\n",
    "    #print(\"cameout of amenities\")   \n",
    "    return json.dumps(amenities_dict)"
   ]
  },
  {
   "cell_type": "code",
   "execution_count": 14,
   "metadata": {},
   "outputs": [],
   "source": [
    "class Parser:\n",
    "    def __init__(self, link, out_file):\n",
    "        self.link = link\n",
    "        self.out_file = out_file\n",
    "\n",
    "    \n",
    "    def build_urls(self, listings_per_page=20, pages_per_location=1):\n",
    "        \"\"\"Builds links for all search pages for a given location\"\"\"\n",
    "        url_list = []\n",
    "        for i in range(pages_per_location):\n",
    "            offset = listings_per_page * i\n",
    "            url_pagination = self.link + f'&items_offset={offset}'\n",
    "            url_list.append(url_pagination)\n",
    "            self.url_list = url_list\n",
    "\n",
    "\n",
    "    def process_search_pages(self):\n",
    "        \"\"\"Extract features from all search pages\"\"\"\n",
    "        features_list = []\n",
    "        for page in self.url_list:\n",
    "            listings = extract_listings(page)\n",
    "            for listing in listings:\n",
    "                features = extract_listing_features(listing, RULES_SEARCH_PAGE)\n",
    "                features['sp_url'] = page\n",
    "                features_list.append(features)\n",
    "        \n",
    "        self.base_features_list = features_list\n",
    "\n",
    "        \n",
    "\n",
    "    def process_detail_pages(self):\n",
    "        print(\"in the details\")\n",
    "        \"\"\"Runs detail pages processing in parallel\"\"\"\n",
    "#         pool = multiprocessing.Pool()\n",
    "#         pool = multiprocessing.Pool(processes=4)\n",
    "#         result = pool.map(scrape_detail_page, self.base_features_list)\n",
    "#         pool.close()\n",
    "#         pool.join()\n",
    "        result=[]\n",
    "        #print(self.base_features_list)\n",
    "        for i in self.base_features_list:\n",
    "            result.append(scrape_detail_page(i))\n",
    "        print(\"came out of details\")\n",
    "        self.all_features_list = result\n",
    "\n",
    "\n",
    "    def save(self, feature_set='all'):\n",
    "        if feature_set == 'basic':\n",
    "            pd.DataFrame(self.base_features_list).to_csv(self.out_file, index=False)\n",
    "        elif feature_set == 'all':\n",
    "            pd.DataFrame(self.all_features_list).to_csv(self.out_file, index=False)\n",
    "        else:\n",
    "            pass\n",
    "            \n",
    "        \n",
    "    def parse(self):\n",
    "        self.build_urls()\n",
    "        self.process_search_pages()\n",
    "        self.process_detail_pages()\n",
    "        self.save('all')"
   ]
  },
  {
   "cell_type": "code",
   "execution_count": null,
   "metadata": {
    "scrolled": true
   },
   "outputs": [
    {
     "name": "stdout",
     "output_type": "stream",
     "text": [
      "in the details\n"
     ]
    },
    {
     "name": "stderr",
     "output_type": "stream",
     "text": [
      "<ipython-input-11-881d06e82012>:7: DeprecationWarning: executable_path has been deprecated, please pass in a Service object\n",
      "  driver = webdriver.Chrome(PATH,options=options)\n"
     ]
    },
    {
     "name": "stdout",
     "output_type": "stream",
     "text": [
      "inside if of house rules\n",
      "house_rules3 []\n",
      "all house rules []\n",
      "inside if of house rules\n",
      "house_rules3 []\n",
      "all house rules []\n",
      "inside if of house rules\n",
      "house_rules3 []\n",
      "all house rules []\n",
      "inside if of house rules\n",
      "house_rules3 []\n",
      "all house rules []\n",
      "inside if of house rules\n",
      "house_rules3 []\n",
      "all house rules []\n",
      "inside if of house rules\n",
      "house_rules3 []\n",
      "all house rules []\n"
     ]
    }
   ],
   "source": [
    "if __name__ == \"__main__\":\n",
    "    new_parser = Parser(AIRBNB_LINK, './test.csv')\n",
    "    t0 = time.time()\n",
    "    new_parser.parse()\n",
    "    print(time.time() - t0)"
   ]
  },
  {
   "cell_type": "markdown",
   "metadata": {},
   "source": [
    "credits @x-technology/airbnb-analytics"
   ]
  }
 ],
 "metadata": {
  "kernelspec": {
   "display_name": "Python 3",
   "language": "python",
   "name": "python3"
  },
  "language_info": {
   "codemirror_mode": {
    "name": "ipython",
    "version": 3
   },
   "file_extension": ".py",
   "mimetype": "text/x-python",
   "name": "python",
   "nbconvert_exporter": "python",
   "pygments_lexer": "ipython3",
   "version": "3.8.5"
  }
 },
 "nbformat": 4,
 "nbformat_minor": 4
}
